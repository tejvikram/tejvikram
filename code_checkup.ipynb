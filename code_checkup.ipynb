{
  "nbformat": 4,
  "nbformat_minor": 0,
  "metadata": {
    "colab": {
      "name": "code checkup ",
      "provenance": [],
      "authorship_tag": "ABX9TyOtexluczCk3WyVcNIMPmFE",
      "include_colab_link": true
    },
    "kernelspec": {
      "name": "python3",
      "display_name": "Python 3"
    },
    "language_info": {
      "name": "python"
    }
  },
  "cells": [
    {
      "cell_type": "markdown",
      "metadata": {
        "id": "view-in-github",
        "colab_type": "text"
      },
      "source": [
        "<a href=\"https://colab.research.google.com/github/tejvikram/tejvikram/blob/main/code_checkup.ipynb\" target=\"_parent\"><img src=\"https://colab.research.google.com/assets/colab-badge.svg\" alt=\"Open In Colab\"/></a>"
      ]
    },
    {
      "cell_type": "code",
      "source": [
        "a, b, c = [int(a) for a in input(\"Enter three values: \").split()]\n",
        "print(\"First Number is: \", a)\n",
        "print(\"Second Number is: \", b)\n",
        "print(\"Third Number is: \", c)\n",
        "print()"
      ],
      "metadata": {
        "colab": {
          "base_uri": "https://localhost:8080/"
        },
        "id": "xkAzZrCrxXRw",
        "outputId": "d0ea7e07-f43d-43ae-df86-a963ff2b9c84"
      },
      "execution_count": 21,
      "outputs": [
        {
          "output_type": "stream",
          "name": "stdout",
          "text": [
            "Enter three values: 1000 200 405\n",
            "First Number is:  1000\n",
            "Second Number is:  200\n",
            "Third Number is:  405\n",
            "\n"
          ]
        }
      ]
    }
  ]
}