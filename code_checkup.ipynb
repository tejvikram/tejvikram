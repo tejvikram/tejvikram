{
  "nbformat": 4,
  "nbformat_minor": 0,
  "metadata": {
    "colab": {
      "name": "code checkup ",
      "provenance": [],
      "authorship_tag": "ABX9TyNhp4fpbQoRl/lL3nMtvdOb",
      "include_colab_link": true
    },
    "kernelspec": {
      "name": "python3",
      "display_name": "Python 3"
    },
    "language_info": {
      "name": "python"
    }
  },
  "cells": [
    {
      "cell_type": "markdown",
      "metadata": {
        "id": "view-in-github",
        "colab_type": "text"
      },
      "source": [
        "<a href=\"https://colab.research.google.com/github/tejvikram/tejvikram/blob/main/code_checkup.ipynb\" target=\"_parent\"><img src=\"https://colab.research.google.com/assets/colab-badge.svg\" alt=\"Open In Colab\"/></a>"
      ]
    },
    {
      "cell_type": "code",
      "execution_count": 15,
      "metadata": {
        "colab": {
          "base_uri": "https://localhost:8080/"
        },
        "id": "3rc0h7sNotxj",
        "outputId": "27156e99-2f82-4f56-86a5-58343c6f5a9b"
      },
      "outputs": [
        {
          "output_type": "stream",
          "name": "stdout",
          "text": [
            "Enter four values: 90 40 20 30 \n",
            "Total number of students:  90\n",
            "Number of boys:  40\n",
            "Number of girls:  20\n",
            "number of absenties:  30\n",
            "\n"
          ]
        }
      ],
      "source": [
        "a, b, c, d = input(\"Enter four values: \").split()\n",
        "print(\"Total number of students: \", a)\n",
        "print(\"Number of boys: \", b)\n",
        "print(\"Number of girls: \", c)\n",
        "print(\"number of absenties: \", d)\n",
        "print()"
      ]
    },
    {
      "cell_type": "code",
      "source": [
        "x, y, z = input(\"Enter three values: \").split()\n",
        "print(\"Total number of students: \", x)\n",
        "print(\"Number of boys is : \", y)\n",
        "print(\"Number of girls is : \", z)\n",
        "print()"
      ],
      "metadata": {
        "colab": {
          "base_uri": "https://localhost:8080/"
        },
        "id": "VWeYJDTKsvAB",
        "outputId": "f2dabcb5-2cee-42a5-c6cd-0e5608280668"
      },
      "execution_count": 12,
      "outputs": [
        {
          "output_type": "stream",
          "name": "stdout",
          "text": [
            "Enter three values: 60 20 40 \n",
            "Total number of students:  60\n",
            "Number of boys is :  20\n",
            "Number of girls is :  40\n",
            "\n"
          ]
        }
      ]
    }
  ]
}